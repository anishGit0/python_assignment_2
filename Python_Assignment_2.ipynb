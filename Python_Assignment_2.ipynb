{
  "nbformat": 4,
  "nbformat_minor": 0,
  "metadata": {
    "colab": {
      "provenance": []
    },
    "kernelspec": {
      "name": "python3",
      "display_name": "Python 3"
    },
    "language_info": {
      "name": "python"
    }
  },
  "cells": [
    {
      "cell_type": "code",
      "execution_count": null,
      "metadata": {
        "colab": {
          "base_uri": "https://localhost:8080/"
        },
        "id": "nONnk3A-YR_E",
        "outputId": "e0f3ed85-6e20-42be-ec85-ef2af6032377"
      },
      "outputs": [
        {
          "output_type": "stream",
          "name": "stdout",
          "text": [
            "Enter your name: Anish\n",
            "Anish\n"
          ]
        }
      ],
      "source": [
        "# 1. Write a code to create a string with your name and print it\n",
        "\n",
        "name = input(\"Enter your name: \")\n",
        "print(name)"
      ]
    },
    {
      "cell_type": "code",
      "source": [
        "# 2. Write a code to find the length of the string \"Hello World\"\n",
        "\n",
        "a = \"Hello World\"\n",
        "len(a)"
      ],
      "metadata": {
        "colab": {
          "base_uri": "https://localhost:8080/"
        },
        "id": "qOdwCATeYyo4",
        "outputId": "e4aebdd2-808f-46ff-cae4-2a030c62dbee"
      },
      "execution_count": null,
      "outputs": [
        {
          "output_type": "execute_result",
          "data": {
            "text/plain": [
              "11"
            ]
          },
          "metadata": {},
          "execution_count": 2
        }
      ]
    },
    {
      "cell_type": "code",
      "source": [
        "# 3. Write a code to slice the first 3 characters from the string \"Python Programming\".\n",
        "\n",
        "input1 = \"Python Programming\"\n",
        "input1[3:]"
      ],
      "metadata": {
        "colab": {
          "base_uri": "https://localhost:8080/",
          "height": 35
        },
        "id": "4EL-U8UsZGB1",
        "outputId": "06d9ad2f-28b7-463e-ae81-30530f0305c6"
      },
      "execution_count": null,
      "outputs": [
        {
          "output_type": "execute_result",
          "data": {
            "text/plain": [
              "'hon Programming'"
            ],
            "application/vnd.google.colaboratory.intrinsic+json": {
              "type": "string"
            }
          },
          "metadata": {},
          "execution_count": 4
        }
      ]
    },
    {
      "cell_type": "code",
      "source": [
        "#  4. Write a code to convert the string \"hello\" to uppercase.\n",
        "\n",
        "input2 = \"hello\"\n",
        "input2.upper()"
      ],
      "metadata": {
        "colab": {
          "base_uri": "https://localhost:8080/",
          "height": 35
        },
        "id": "dhSbEUD3aBFm",
        "outputId": "a48efef9-e062-45e3-bda2-9694c10d39d2"
      },
      "execution_count": null,
      "outputs": [
        {
          "output_type": "execute_result",
          "data": {
            "text/plain": [
              "'HELLO'"
            ],
            "application/vnd.google.colaboratory.intrinsic+json": {
              "type": "string"
            }
          },
          "metadata": {},
          "execution_count": 5
        }
      ]
    },
    {
      "cell_type": "code",
      "source": [
        "#  5. Write a code to replace the word \"apple\" with \"orange\" in the string \"I like apple\".\n",
        "\n",
        "input3 = \"I like apple\"\n",
        "input3.replace(\"apple\", \"orange\")"
      ],
      "metadata": {
        "colab": {
          "base_uri": "https://localhost:8080/",
          "height": 35
        },
        "id": "kD4WM06qaRV9",
        "outputId": "b9d8f608-81b0-4944-8678-4975e41afad3"
      },
      "execution_count": null,
      "outputs": [
        {
          "output_type": "execute_result",
          "data": {
            "text/plain": [
              "'I like orange'"
            ],
            "application/vnd.google.colaboratory.intrinsic+json": {
              "type": "string"
            }
          },
          "metadata": {},
          "execution_count": 6
        }
      ]
    },
    {
      "cell_type": "code",
      "source": [
        "#  6. Write a code to create a list with numbers 1 to 5 and print it.\n",
        "\n",
        "list1 = list(range(1, 6))\n",
        "print(list1)"
      ],
      "metadata": {
        "colab": {
          "base_uri": "https://localhost:8080/"
        },
        "id": "cv6BHgQkai1e",
        "outputId": "5c9f4a04-89b3-4d4a-a9c5-1abc172a52a3"
      },
      "execution_count": null,
      "outputs": [
        {
          "output_type": "stream",
          "name": "stdout",
          "text": [
            "[1, 2, 3, 4, 5]\n"
          ]
        }
      ]
    },
    {
      "cell_type": "code",
      "source": [
        "# 7. Write a code to append the number 10 to the list [1, 2, 3, 4].\n",
        "\n",
        "list2 = [1, 2, 3, 4]\n",
        "list2.append(10)\n",
        "print(list2)"
      ],
      "metadata": {
        "colab": {
          "base_uri": "https://localhost:8080/"
        },
        "id": "PD1tRgZ0bFL1",
        "outputId": "9e686f1c-590d-4ec3-8468-ec9117a4bc50"
      },
      "execution_count": null,
      "outputs": [
        {
          "output_type": "stream",
          "name": "stdout",
          "text": [
            "[1, 2, 3, 4, 10]\n"
          ]
        }
      ]
    },
    {
      "cell_type": "code",
      "source": [
        "#  8. Write a code to remove the number 3 from the list [1, 2, 3, 4, 5].\n",
        "\n",
        "list3 = [1, 2, 3, 4, 5]\n",
        "list3.remove(3)\n",
        "print(list3)"
      ],
      "metadata": {
        "colab": {
          "base_uri": "https://localhost:8080/"
        },
        "id": "orJ3sIe-bYrm",
        "outputId": "406ab5f4-fbc8-4d70-e32d-9481679765fa"
      },
      "execution_count": null,
      "outputs": [
        {
          "output_type": "stream",
          "name": "stdout",
          "text": [
            "[1, 2, 4, 5]\n"
          ]
        }
      ]
    },
    {
      "cell_type": "code",
      "source": [
        "# 9. Write a code to access the second element in the list ['a', 'b', 'c', 'd'].\n",
        "\n",
        "list4 = ['a', 'b', 'c', 'd']\n",
        "list4[1]"
      ],
      "metadata": {
        "colab": {
          "base_uri": "https://localhost:8080/",
          "height": 35
        },
        "id": "Ffc0snW2bvML",
        "outputId": "84fd1273-cfed-4127-d45c-ef843ff22b44"
      },
      "execution_count": null,
      "outputs": [
        {
          "output_type": "execute_result",
          "data": {
            "text/plain": [
              "'b'"
            ],
            "application/vnd.google.colaboratory.intrinsic+json": {
              "type": "string"
            }
          },
          "metadata": {},
          "execution_count": 14
        }
      ]
    },
    {
      "cell_type": "code",
      "source": [
        "# 10. Write a code to reverse the list [10, 20, 30, 40, 50].\n",
        "\n",
        "list5 = [10, 20, 30, 40, 50]\n",
        "list5[::-1]"
      ],
      "metadata": {
        "colab": {
          "base_uri": "https://localhost:8080/"
        },
        "id": "tLcKujFYcKok",
        "outputId": "8b9aa8f3-32e0-4fab-b41b-9665d22a5b70"
      },
      "execution_count": null,
      "outputs": [
        {
          "output_type": "execute_result",
          "data": {
            "text/plain": [
              "[50, 40, 30, 20, 10]"
            ]
          },
          "metadata": {},
          "execution_count": 15
        }
      ]
    },
    {
      "cell_type": "code",
      "source": [
        "# 11.  Write a code to create a tuple with the elements 10, 20, 30 and print it.\n",
        "\n",
        "tuple1 = (10, 20, 30)\n",
        "print(tuple1)"
      ],
      "metadata": {
        "colab": {
          "base_uri": "https://localhost:8080/"
        },
        "id": "oWxpBpHxcegK",
        "outputId": "d5eed325-332e-4ff7-b7f5-9f6e1659016f"
      },
      "execution_count": null,
      "outputs": [
        {
          "output_type": "stream",
          "name": "stdout",
          "text": [
            "(10, 20, 30)\n"
          ]
        }
      ]
    },
    {
      "cell_type": "code",
      "source": [
        "# 12. Write a code to access the first element of the tuple ('apple', 'banana', 'cherry').\n",
        "\n",
        "tuple2 = ('apple', 'banana', 'cherry')\n",
        "tuple2[0]"
      ],
      "metadata": {
        "colab": {
          "base_uri": "https://localhost:8080/",
          "height": 35
        },
        "id": "g9OJqPrscwiG",
        "outputId": "87d95082-e451-4fa5-d639-2e86368a0e5a"
      },
      "execution_count": null,
      "outputs": [
        {
          "output_type": "execute_result",
          "data": {
            "text/plain": [
              "'apple'"
            ],
            "application/vnd.google.colaboratory.intrinsic+json": {
              "type": "string"
            }
          },
          "metadata": {},
          "execution_count": 18
        }
      ]
    },
    {
      "cell_type": "code",
      "source": [
        "# 13. Write a code to count how many times the number 2 appears in the tuple (1, 2, 3, 2, 4, 2).\n",
        "\n",
        "tuple3 = (1, 2, 3, 2, 4, 2)\n",
        "tuple3.count(2)"
      ],
      "metadata": {
        "colab": {
          "base_uri": "https://localhost:8080/"
        },
        "id": "80_xbsVfdETL",
        "outputId": "3835ee0b-3cea-42ab-b238-2ebd667526af"
      },
      "execution_count": null,
      "outputs": [
        {
          "output_type": "execute_result",
          "data": {
            "text/plain": [
              "3"
            ]
          },
          "metadata": {},
          "execution_count": 19
        }
      ]
    },
    {
      "cell_type": "code",
      "source": [
        "# 14. Write a code to find the index of the element \"cat\" in the tuple ('dog', 'cat', 'rabbit').\n",
        "\n",
        "tuple4 = ('dog', 'cat', 'rabbit')\n",
        "tuple4.index('cat')"
      ],
      "metadata": {
        "colab": {
          "base_uri": "https://localhost:8080/"
        },
        "id": "l3r4-yXUdMno",
        "outputId": "0ade957c-d340-4d0a-e90b-82701561cf3a"
      },
      "execution_count": null,
      "outputs": [
        {
          "output_type": "execute_result",
          "data": {
            "text/plain": [
              "1"
            ]
          },
          "metadata": {},
          "execution_count": 20
        }
      ]
    },
    {
      "cell_type": "code",
      "source": [
        "# 15. Write a code to check if the element \"banana\" is in the tuple ('apple', 'orange', 'banana').\n",
        "\n",
        "tuple5 = ('apple', 'orange', 'banana')\n",
        "if 'banana' in tuple5:\n",
        "    print('banana is in the tuple')\n",
        "else:\n",
        "    print('banana is not in the tuple')"
      ],
      "metadata": {
        "colab": {
          "base_uri": "https://localhost:8080/"
        },
        "id": "RN9Bhwamd14L",
        "outputId": "e41f8514-aea5-4013-9fca-23c107d753d5"
      },
      "execution_count": null,
      "outputs": [
        {
          "output_type": "stream",
          "name": "stdout",
          "text": [
            "banana is in the tuple\n"
          ]
        }
      ]
    },
    {
      "cell_type": "code",
      "source": [
        "# 16. Write a code to create a set with the elements 1, 2, 3, 4, 5 and print it.\n",
        "\n",
        "set1 = {1, 2, 3, 4, 5}\n",
        "print(set1)"
      ],
      "metadata": {
        "colab": {
          "base_uri": "https://localhost:8080/"
        },
        "id": "j3BiY8HEeWfG",
        "outputId": "a9f04a3d-fe45-4726-fabe-b9a87f48191d"
      },
      "execution_count": null,
      "outputs": [
        {
          "output_type": "stream",
          "name": "stdout",
          "text": [
            "{1, 2, 3, 4, 5}\n"
          ]
        }
      ]
    },
    {
      "cell_type": "code",
      "source": [
        "# 17. Write a code to add the element 6 to the set {1, 2, 3, 4}.\n",
        "\n",
        "set2 = {1, 2, 3, 4}\n",
        "set2.add(6)\n",
        "print(set2)"
      ],
      "metadata": {
        "colab": {
          "base_uri": "https://localhost:8080/"
        },
        "id": "RTD9Axq8efdb",
        "outputId": "d24965ad-df52-400a-ab50-d5a159028e76"
      },
      "execution_count": null,
      "outputs": [
        {
          "output_type": "stream",
          "name": "stdout",
          "text": [
            "{1, 2, 3, 4, 6}\n"
          ]
        }
      ]
    },
    {
      "cell_type": "code",
      "source": [
        "# 18.  Write a code to create a tuple with the elements 10, 20, 30 and print it.\n",
        "\n",
        "tuple6 = (10, 20, 30)\n",
        "print(tuple6)"
      ],
      "metadata": {
        "colab": {
          "base_uri": "https://localhost:8080/"
        },
        "id": "ms0SbOoL4hlR",
        "outputId": "ab333426-fb67-4104-a7bc-4eebdeef2cfc"
      },
      "execution_count": null,
      "outputs": [
        {
          "output_type": "stream",
          "name": "stdout",
          "text": [
            "(10, 20, 30)\n"
          ]
        }
      ]
    },
    {
      "cell_type": "code",
      "source": [
        "# 19.  Write a code to access the first element of the tuple ('apple', 'banana', 'cherry').\n",
        "\n",
        "tuple7 = ('apple', 'banana', 'cherry')\n",
        "tuple7[0]"
      ],
      "metadata": {
        "colab": {
          "base_uri": "https://localhost:8080/",
          "height": 35
        },
        "id": "df8FLA3h43El",
        "outputId": "4662cb77-ce34-4b6d-a092-20f84773ced9"
      },
      "execution_count": null,
      "outputs": [
        {
          "output_type": "execute_result",
          "data": {
            "text/plain": [
              "'apple'"
            ],
            "application/vnd.google.colaboratory.intrinsic+json": {
              "type": "string"
            }
          },
          "metadata": {},
          "execution_count": 28
        }
      ]
    },
    {
      "cell_type": "code",
      "source": [
        "# 20. Write a code to count how many times the number 2 appears in the tuple (1, 2, 3, 2, 4, 2).\n",
        "\n",
        "tuple8 = (1, 2, 3, 2, 4, 2)\n",
        "tuple8.count(2)"
      ],
      "metadata": {
        "colab": {
          "base_uri": "https://localhost:8080/"
        },
        "id": "3u4tSPPs5DyH",
        "outputId": "c4f677da-e7f9-4728-d510-779733321737"
      },
      "execution_count": null,
      "outputs": [
        {
          "output_type": "execute_result",
          "data": {
            "text/plain": [
              "3"
            ]
          },
          "metadata": {},
          "execution_count": 29
        }
      ]
    },
    {
      "cell_type": "code",
      "source": [
        "# 21. Write a code to find the index of the element \"cat\" in the tuple ('dog', 'cat', 'rabbit').\n",
        "\n",
        "tuple9 = ('dog', 'cat', 'rabbit')\n",
        "tuple9.index('cat')"
      ],
      "metadata": {
        "colab": {
          "base_uri": "https://localhost:8080/"
        },
        "id": "pylHy_fB5Vs0",
        "outputId": "1c7e2760-c29e-4a4e-dd28-61da082dc448"
      },
      "execution_count": null,
      "outputs": [
        {
          "output_type": "execute_result",
          "data": {
            "text/plain": [
              "1"
            ]
          },
          "metadata": {},
          "execution_count": 30
        }
      ]
    },
    {
      "cell_type": "code",
      "source": [
        "# 22. Write a code to check if the element \"banana\" is in the tuple ('apple', 'orange', 'banana').\n",
        "\n",
        "tuple10 = ('apple', 'orange', 'banana')\n",
        "if 'banana' in tuple10:\n",
        "    print('banana is in the tuple')\n",
        "else:\n",
        "    print('banana is not in the tuple')"
      ],
      "metadata": {
        "colab": {
          "base_uri": "https://localhost:8080/"
        },
        "id": "s_pdzYMR5iGT",
        "outputId": "0e2c6e19-9afd-42b7-908b-ebf0988182d6"
      },
      "execution_count": 2,
      "outputs": [
        {
          "output_type": "stream",
          "name": "stdout",
          "text": [
            "banana is in the tuple\n"
          ]
        }
      ]
    },
    {
      "cell_type": "code",
      "source": [
        "# 23.  Write a code to create a set with the elements 1, 2, 3, 4, 5 and print it.\n",
        "\n",
        "set3 = {1, 2, 3, 4, 5}\n",
        "print(set3)"
      ],
      "metadata": {
        "colab": {
          "base_uri": "https://localhost:8080/"
        },
        "id": "nAUQs8MC5pyP",
        "outputId": "712543e6-14cc-493e-f736-008ada2bbe07"
      },
      "execution_count": null,
      "outputs": [
        {
          "output_type": "stream",
          "name": "stdout",
          "text": [
            "{1, 2, 3, 4, 5}\n"
          ]
        }
      ]
    },
    {
      "cell_type": "code",
      "source": [
        "# 24. Write a code to add the element 6 to the set {1, 2, 3, 4}.\n",
        "\n",
        "set4 = {1, 2, 3, 4}\n",
        "set4.add(6)\n",
        "print(set4)"
      ],
      "metadata": {
        "colab": {
          "base_uri": "https://localhost:8080/"
        },
        "id": "8KPo3jui50ue",
        "outputId": "4a3db1ce-342a-4084-f1c5-d0da57a31dca"
      },
      "execution_count": null,
      "outputs": [
        {
          "output_type": "stream",
          "name": "stdout",
          "text": [
            "{1, 2, 3, 4, 6}\n"
          ]
        }
      ]
    },
    {
      "cell_type": "markdown",
      "source": [
        "**Theoritical Questions**\n",
        "\n",
        "1. What are data structures, and why are they important ?\n",
        "--> Data Structure are specialised formats for organizing, storing and accessing the collection of data.\n",
        "\n",
        "they are important because-\n",
        "*   Choosing the right data structure correctly which we need in our program.\n",
        "*   Simplfy data manipulation.\n",
        "*   Optimize searching and sorting.\n",
        "*   conserve memory usage.\n",
        "\n",
        "2. Explain the difference between mutable and immutable data types with examples.\n",
        "--> Mutable data types are those whose values can be changed after they are created. This means we can modify the internal state of the object without creating a new object.\n",
        "\n",
        "Immutable data types are those whose values cannot be changed after they are created. When we perform an operation that appears to modify an immutable object, we are actually creating a new object with the updated value.\n",
        "\n",
        "3. What are the main differences between lists and tuples in Python ?\n",
        "--> Tuples are immutable, meaning their contents cannot be modified after creation.Tuples are defined using parentheses ().\n",
        "Example- my_tuple = (1, 2, 3)\n",
        "print(my_tuple)\n",
        "\n",
        "Lists are mutable, meaning their contents can be modified after creation.Lists are defined using square brackets [].\n",
        "Example- my_list = [1, 2, 3]\n",
        "print(my_list)\n",
        "\n",
        "4. Describe how dictionaries store data.\n",
        "--> Dictionaries store data as a collection of key-value pairs. Each key is unique and maps to a specific value.\n",
        "\n",
        "dict1 = {\"apple\": 1, \"banana\": 2, \"cherry\": 3}\n",
        "type(dict1)\n",
        "\n",
        "If we do it then it will give it is a dictionary. Here \"apple\" is the key and the vale of the key(\"apple\") is 1.Similarly same will go for every element in this dictionary.\n",
        "\n",
        "5. Why might you use a set instead of a list in Python ?\n",
        "--> We use sets when we need to store a collection of unique elements, perform membership testing efficiently, or need to do  mathematical set operations.\n",
        "\n",
        "If the order of elements is important, or if duplicates are allowed, then a list would be a better choice.\n",
        "\n",
        "6. What is a string in Python, and how is it different from a list ?\n",
        "--> A string is a sequence of characters, such as letters, numbers, and symbols enclosed within single quotes or double quotes. Strings are immutable, which means once a string is created, its contents cannot be changed.\n",
        "\n",
        "A list is an ordered collection of items, which can be of different data types, such as numbers, strings, or even other lists.Lists are mutable, i.e we can modify their contents after creation.\n",
        "\n",
        "We use strings to store and manipulate text.\n",
        "\n",
        "We use lists to store and manipulate collections of items that can be modified.\n",
        "\n",
        "7. How do tuples ensure data integrity in Python ?\n",
        "--> Tuples are immutable, meaning their elements cannot be changed after they are created.\n",
        "\n",
        "Tuples ensures data integrity by being immutable, preventing modifications,data consistency and protecting from unauthorized access.They are useful when we need to ensure that data remains same throughout the program.\n",
        "\n",
        "8. What is a hash table, and how does it relate to dictionaries in Python ?\n",
        "--> A hash table is a data structure that stores data in key-value pairs, where each key is unique and is used to access its corresponding value.\n",
        "\n",
        "Dictionaries in Python are built upon the concept of hash tables, using their efficient key-based storage and retrieval mechanisms.Hash tables provide the underlying structure that enables dictionaries to perform operations like lookups, insertions, and deletions quickly. This relationship between hash tables and dictionaries makes them essential tools for data storage and manipulation in Python.\n",
        "\n",
        "9. Can lists contain different data types in Python?\n",
        "--> Yes, lists in Python can contain different data types. We can store a mix of integers, floats, strings, booleans, and even other data structures like lists or tuples within a single list.\n",
        "\n",
        "10. Explain why strings are immutable in Python.\n",
        "--> Strings are immutable in Python due to security, performance, and hashing considerations.While we are going to do concatenation or slicing to modify strings,they actually create new string objects and the original string is remain same.This immutability makes string safe, efficient and hashable and making them suitable for various programming tasks.\n",
        "\n",
        "11. What advantages do dictionaries offer over lists for certain tasks?\n",
        "--> Both the dictionaries and lists are used to store collections of data. Dictionaries store data in key-value pairs, where each key is unique and used to retrieve its associated value. Lists store data in an ordered sequence and accessed by their index.\n",
        "\n",
        "12. Describe a scenario where using a tuple would be preferable over a list.\n",
        "--> 1. When Data Should Not Change\n",
        "If the data we are working with is constant and should not be modified, a tuple enforces immutability. This helps prevent accidental changes.\n",
        "coordinates = (10.5, 42.7)  # using a tuple because coordinates shouldn't change\n",
        "\n",
        "2.As Keys in a Dictionary\n",
        "\n",
        "tuples are immutable and hashable, they can be used as keys in a dictionary, whereas lists cannot.\n",
        "\n",
        "data = {\n",
        "    (0, 0): \"A\",\n",
        "    (1, 2): \"B\",\n",
        "    (2, 3): \"C\"\n",
        "}\n",
        "\n",
        "13. How do sets handle duplicate values in Python ?\n",
        "--> Sets in Python automatically handle duplicate values by removing them when they are added. This is achieved through their hash table implementation, which allows for efficient membership testing. Sets guarantee uniqueness, efficiency, and data integrity, making them valuable for tasks where duplicates need to be eliminated.\n",
        "\n",
        "14. How does the “in” keyword work differently for lists and dictionaries ?\n",
        "--> The 'in' keyword works differently for lists and dictionaries in Python. For lists, it checks for membership of an element, while for dictionaries, it checks for the presence of a key. This distinction reflects the underlying structure and purpose of each data structure.\n",
        "\n",
        "my_list = [1, 2, 3, 4, 5]\n",
        "\n",
        "if 3 in my_list:\n",
        "    print(\"3 is in the list\")\n",
        "else:\n",
        "    print(\"3 is not in the list\")\n",
        "\n",
        "\n",
        "my_dict = {\"name\": \"Alice\", \"age\": 30, \"city\": \"New York\"}\n",
        "\n",
        "if \"name\" in my_dict:\n",
        "    print(\"name is a key in the dictionary\")\n",
        "else:\n",
        "    print(\"name is not a key in the dictionary\")\n",
        "\n",
        "\n",
        "15. Can you modify the elements of a tuple? Explain why or why not.\n",
        "--> No.\n",
        "\n",
        "Tuples are immutable in Python, means their elements cannot be modified directly. This immutability is a key feature that ensures data integrity and security. If we need to modify the elements of a tuple, we can consider workarounds like converting to a list or creating a new tuple with the desired changes.\n",
        "\n",
        "16. What is a nested dictionary, and give an example of its use case?\n",
        "--> A nested dictionary is a dictionary where the values are themselves dictionaries.Nested dictionaries are dictionaries containing other dictionaries as values. They are useful for representing hierarchical data and offer benefits like organization, readability, and flexibility.\n",
        "\n",
        "17. Describe the time complexity of accessing elements in a dictionary.\n",
        "--> Accessing elements in a dictionary has an average time complexity of O(1), also known as constant time. This means that the time it takes to access an element in a dictionary is independent of the size of the dictionary.\n",
        "\n",
        "Accessing elements in a dictionary in Python has an average time complexity of O(1), which means it takes constant time regardless of the dictionary's size. This efficiency is due to the underlying hash table implementation. While the worst-case scenario can degrade to O(n) due to collisions.\n",
        "\n",
        "my_dict = {\"a\": 1, \"b\": 2, \"c\": 3}\n",
        "print(my_dict[\"b\"])  # O(1) access to the value 2\n",
        "\n",
        "my_dict = {i: i**2 for i in range(1000)} # If all keys somehow hashed to the same index, access time could degrade to O(n).\n",
        "\n",
        "\n",
        "18. In what situations are lists preferred over dictionaries ?\n",
        "--> Lists are preferred over dictionaries when the order of elements is important, duplicate elements are allowed, sequential access is needed, indexing is required, or when manipulating collections. They are suitable for scenarios where you need to store and process ordered data.\n",
        "\n",
        "my_list = [1, 2, 3, 4, 5]\n",
        "\n",
        "# Accessing elements by index\n",
        "first_element = my_list[0]  # Accessing the first element\n",
        "last_element = my_list[-1]  # Accessing the last element\n",
        "\n",
        "# Iterating through the list\n",
        "for element in my_list:\n",
        "    print(element)\n",
        "\n",
        "\n",
        "\n",
        "19. Why are dictionaries considered unordered, and how does that affect data retrieval ?\n",
        "--> Dictionaries in Python are considered unordered because their implementation using hash tables prioritizes efficient key-based access over maintaining order. This means that the order in which elements are stored and retrieved is not guaranteed. While this has implications for data retrieval when relying on order, dictionaries are primarily designed for key-based access, where order is not relevant.\n",
        "\n",
        "20. Explain the difference between a list and a dictionary in terms of data retrieval.\n",
        "\n",
        "--> Lists provide index-based access, where you retrieve elements based on their position.\n",
        "Dictionaries provide key-based access, where you retrieve values based on their associated keys.\n",
        "\n",
        "Dictionaries generally offer faster data retrieval for large collections due to their hash table implementation, while lists are more suitable when we need to access elements sequentially or based on their position."
      ],
      "metadata": {
        "id": "FORZ7Oj7hfc8"
      }
    }
  ]
}